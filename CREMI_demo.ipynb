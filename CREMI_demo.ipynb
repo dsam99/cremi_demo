{
 "cells": [
  {
   "cell_type": "markdown",
   "metadata": {},
   "source": [
    "# CREMI Dataset\n",
    "\n",
    "Here is a example setup of accessing the CREMI dataset of neural tissue and setting up a basic neural network."
   ]
  },
  {
   "cell_type": "markdown",
   "metadata": {},
   "source": [
    "We will first need to import a few python packages to get started."
   ]
  },
  {
   "cell_type": "code",
   "execution_count": 1,
   "metadata": {},
   "outputs": [
    {
     "name": "stderr",
     "output_type": "stream",
     "text": [
      "Using TensorFlow backend.\n"
     ]
    }
   ],
   "source": [
    "import h5py\n",
    "import numpy as np\n",
    "from keras.models import Sequential\n",
    "from keras.layers import Dense, Conv2D, Flatten, GlobalAveragePooling2D, Dropout, MaxPooling2D"
   ]
  },
  {
   "cell_type": "markdown",
   "metadata": {},
   "source": [
    "Now, after you have downloaded the CREMI sample datasets, you can read the hdf files using the h5py package we have imported."
   ]
  },
  {
   "cell_type": "code",
   "execution_count": 2,
   "metadata": {},
   "outputs": [],
   "source": [
    "f_train = h5py.File(\"CREMI/sample_a_train.hdf\")\n",
    "f_test = h5py.File(\"CREMI/sample_a_test.hdf\")"
   ]
  },
  {
   "cell_type": "markdown",
   "metadata": {},
   "source": [
    "These h5 structures contain many different formats of data, but we will be working with the volumes/raw/ and the volumes/labels/neuron_ids/ which contain the raw pixel data and the neuron labels."
   ]
  },
  {
   "cell_type": "code",
   "execution_count": 3,
   "metadata": {},
   "outputs": [
    {
     "name": "stdout",
     "output_type": "stream",
     "text": [
      "Converted training data\n"
     ]
    }
   ],
   "source": [
    "pixels = f_train['volumes']['raw']\n",
    "labels = f_train['volumes']['labels']['neuron_ids']\n",
    "\n",
    "train_data = np.array(pixels[::].tolist())\n",
    "train_labels = np.array(labels[::].tolist())\n",
    "\n",
    "print(\"Converted training data\")"
   ]
  },
  {
   "cell_type": "markdown",
   "metadata": {},
   "source": [
    "We also want to read in the test data, which contain raw pixels on that we can feed into a trained model."
   ]
  },
  {
   "cell_type": "code",
   "execution_count": 4,
   "metadata": {},
   "outputs": [
    {
     "name": "stdout",
     "output_type": "stream",
     "text": [
      "Converted test data\n"
     ]
    }
   ],
   "source": [
    "pixels = f_test['volumes']['raw']\n",
    "test_data = np.array(pixels[::].tolist())\n",
    "\n",
    "print(\"Converted test data\")"
   ]
  },
  {
   "cell_type": "markdown",
   "metadata": {},
   "source": [
    "Now that we have formatted all of our data, we can now setup our neural network. We will be using Keras, which is a easy integration into the Tensorflow backend. You can also try using Pytorch if you are more comfortable with that library."
   ]
  },
  {
   "cell_type": "code",
   "execution_count": 5,
   "metadata": {},
   "outputs": [],
   "source": [
    "model = Sequential()\n",
    "\n",
    "# simple feed-forward structure\n",
    "model.add(Dense(250, activation='softmax',\n",
    "                input_shape=(1250, 1250)))\n",
    "model.add(Dropout(0.5))\n",
    "model.add(Dense(1250, activation='softmax'))\n",
    "\n",
    "# Compiling model\n",
    "model.compile(optimizer='adam',\n",
    "              loss='categorical_crossentropy',\n",
    "              metrics=['accuracy'])"
   ]
  },
  {
   "cell_type": "markdown",
   "metadata": {},
   "source": [
    "Finally we can train our model!"
   ]
  },
  {
   "cell_type": "code",
   "execution_count": 6,
   "metadata": {},
   "outputs": [
    {
     "name": "stdout",
     "output_type": "stream",
     "text": [
      "Epoch 1/3\n",
      "125/125 [==============================] - 31s 244ms/step - loss: 175534558.7200 - acc: 0.0061\n",
      "Epoch 2/3\n",
      "125/125 [==============================] - 30s 242ms/step - loss: 175330818.5600 - acc: 0.0017\n",
      "Epoch 3/3\n",
      "125/125 [==============================] - 30s 239ms/step - loss: 175138147.2000 - acc: 0.0014\n"
     ]
    },
    {
     "data": {
      "text/plain": [
       "<keras.callbacks.History at 0x7fa38da90ba8>"
      ]
     },
     "execution_count": 6,
     "metadata": {},
     "output_type": "execute_result"
    }
   ],
   "source": [
    "model.fit(train_data,\n",
    "          train_labels,\n",
    "          batch_size=10,\n",
    "          shuffle=True,\n",
    "          epochs=3)"
   ]
  },
  {
   "cell_type": "code",
   "execution_count": null,
   "metadata": {},
   "outputs": [],
   "source": []
  }
 ],
 "metadata": {
  "kernelspec": {
   "display_name": "Python 3",
   "language": "python",
   "name": "python3"
  },
  "language_info": {
   "codemirror_mode": {
    "name": "ipython",
    "version": 3
   },
   "file_extension": ".py",
   "mimetype": "text/x-python",
   "name": "python",
   "nbconvert_exporter": "python",
   "pygments_lexer": "ipython3",
   "version": "3.6.6"
  }
 },
 "nbformat": 4,
 "nbformat_minor": 2
}
